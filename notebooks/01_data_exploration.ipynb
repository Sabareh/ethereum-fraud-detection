{
 "cells": [
  {
   "cell_type": "markdown",
   "metadata": {},
   "source": [
    "# Ethereum Fraud Detection - Data Exploration\n",
    "\n",
    "Author: Victor Oketch Sabare  \n",
    "Date: January 2025\n",
    "\n",
    "This notebook explores the Ethereum transaction data to understand patterns and characteristics that might indicate fraudulent activity."
   ]
  },
  {
   "cell_type": "markdown",
   "metadata": {},
   "source": [
    "## 1. Setup and Import Libraries"
   ]
  },
  {
   "cell_type": "code",
   "execution_count": 1,
   "metadata": {},
   "outputs": [
    {
     "ename": "ModuleNotFoundError",
     "evalue": "No module named 'web3'",
     "output_type": "error",
     "traceback": [
      "\u001b[1;31m---------------------------------------------------------------------------\u001b[0m",
      "\u001b[1;31mModuleNotFoundError\u001b[0m                       Traceback (most recent call last)",
      "Cell \u001b[1;32mIn[1], line 10\u001b[0m\n\u001b[0;32m      7\u001b[0m \u001b[38;5;28;01mimport\u001b[39;00m \u001b[38;5;21;01mseaborn\u001b[39;00m \u001b[38;5;28;01mas\u001b[39;00m \u001b[38;5;21;01msns\u001b[39;00m\n\u001b[0;32m      9\u001b[0m \u001b[38;5;66;03m# Ethereum interaction\u001b[39;00m\n\u001b[1;32m---> 10\u001b[0m \u001b[38;5;28;01mfrom\u001b[39;00m \u001b[38;5;21;01mweb3\u001b[39;00m \u001b[38;5;28;01mimport\u001b[39;00m Web3\n\u001b[0;32m     11\u001b[0m \u001b[38;5;28;01mfrom\u001b[39;00m \u001b[38;5;21;01metherscan\u001b[39;00m \u001b[38;5;28;01mimport\u001b[39;00m Etherscan\n\u001b[0;32m     13\u001b[0m \u001b[38;5;66;03m# Custom utilities\u001b[39;00m\n",
      "\u001b[1;31mModuleNotFoundError\u001b[0m: No module named 'web3'"
     ]
    }
   ],
   "source": [
    "# Data manipulation and analysis\n",
    "import pandas as pd\n",
    "import numpy as np\n",
    "\n",
    "# Visualization\n",
    "import matplotlib.pyplot as plt\n",
    "import seaborn as sns\n",
    "\n",
    "# Ethereum interaction\n",
    "from web3 import Web3\n",
    "from etherscan import Etherscan\n",
    "\n",
    "# Custom utilities\n",
    "import sys\n",
    "sys.path.append('../')\n",
    "from src.utils.helpers import load_config\n",
    "\n",
    "# Set plotting style\n",
    "plt.style.use('seaborn')\n",
    "%matplotlib inline"
   ]
  },
  {
   "cell_type": "markdown",
   "metadata": {},
   "source": [
    "## 2. Data Loading"
   ]
  },
  {
   "cell_type": "code",
   "execution_count": null,
   "metadata": {},
   "outputs": [],
   "source": [
    "# Load transaction data\n",
    "def load_transaction_data(filepath):\n",
    "    \"\"\"Load Ethereum transaction data from specified path\"\"\"\n",
    "    try:\n",
    "        df = pd.read_csv(filepath)\n",
    "        print(f\"Loaded {len(df)} transactions\")\n",
    "        return df\n",
    "    except Exception as e:\n",
    "        print(f\"Error loading data: {e}\")\n",
    "        return None\n",
    "\n",
    "# Load the data\n",
    "transactions_df = load_transaction_data('../data/raw/Eth_Txs.csv')"
   ]
  },
  {
   "cell_type": "markdown",
   "metadata": {},
   "source": [
    "## 3. Initial Data Overview"
   ]
  },
  {
   "cell_type": "code",
   "execution_count": null,
   "metadata": {},
   "outputs": [],
   "source": [
    "# Basic information about the dataset\n",
    "print(\"Dataset Information:\")\n",
    "transactions_df.info()\n",
    "\n",
    "print(\"\\nSample of the data:\")\n",
    "transactions_df.head()\n",
    "\n",
    "print(\"\\nBasic statistics:\")\n",
    "transactions_df.describe()"
   ]
  },
  {
   "cell_type": "markdown",
   "metadata": {},
   "source": [
    "## 4. Transaction Value Analysis"
   ]
  },
  {
   "cell_type": "code",
   "execution_count": null,
   "metadata": {},
   "outputs": [],
   "source": [
    "# Distribution of transaction values\n",
    "plt.figure(figsize=(12, 6))\n",
    "sns.histplot(data=transactions_df, x='value', bins=50)\n",
    "plt.title('Distribution of Transaction Values')\n",
    "plt.xlabel('Value (ETH)')\n",
    "plt.ylabel('Count')\n",
    "plt.show()"
   ]
  },
  {
   "cell_type": "markdown",
   "metadata": {},
   "source": [
    "## 5. Temporal Analysis"
   ]
  },
  {
   "cell_type": "code",
   "execution_count": null,
   "metadata": {},
   "outputs": [],
   "source": [
    "# Convert timestamp to datetime\n",
    "transactions_df['datetime'] = pd.to_datetime(transactions_df['timestamp'], unit='s')\n",
    "\n",
    "# Transaction frequency over time\n",
    "daily_transactions = transactions_df.resample('D', on='datetime').size()\n",
    "\n",
    "plt.figure(figsize=(15, 6))\n",
    "daily_transactions.plot()\n",
    "plt.title('Daily Transaction Volume')\n",
    "plt.xlabel('Date')\n",
    "plt.ylabel('Number of Transactions')\n",
    "plt.show()"
   ]
  },
  {
   "cell_type": "markdown",
   "metadata": {},
   "source": [
    "## 6. Account Analysis"
   ]
  },
  {
   "cell_type": "code",
   "execution_count": null,
   "metadata": {},
   "outputs": [],
   "source": [
    "# Analyze account activity\n",
    "account_stats = pd.DataFrame({\n",
    "    'sent_count': transactions_df['from_address'].value_counts(),\n",
    "    'received_count': transactions_df['to_address'].value_counts()\n",
    "})\n",
    "\n",
    "print(\"Top 10 most active accounts:\")\n",
    "account_stats.head(10)"
   ]
  },
  {
   "cell_type": "markdown",
   "metadata": {},
   "source": [
    "## 7. Gas Price Analysis"
   ]
  },
  {
   "cell_type": "code",
   "execution_count": null,
   "metadata": {},
   "outputs": [],
   "source": [
    "# Gas price distribution\n",
    "plt.figure(figsize=(12, 6))\n",
    "sns.boxplot(y=transactions_df['gas_price'])\n",
    "plt.title('Gas Price Distribution')\n",
    "plt.ylabel('Gas Price (Wei)')\n",
    "plt.show()"
   ]
  },
  {
   "cell_type": "markdown",
   "metadata": {},
   "source": [
    "## 8. Network Analysis"
   ]
  },
  {
   "cell_type": "code",
   "execution_count": null,
   "metadata": {},
   "outputs": [],
   "source": [
    "# Basic network metrics\n",
    "unique_addresses = pd.concat([transactions_df['from_address'], \n",
    "                            transactions_df['to_address']]).nunique()\n",
    "\n",
    "print(f\"Number of unique addresses: {unique_addresses}\")\n",
    "print(f\"Number of transactions: {len(transactions_df)}\")\n",
    "print(f\"Average transactions per address: {len(transactions_df)/unique_addresses:.2f}\")"
   ]
  },
  {
   "cell_type": "markdown",
   "metadata": {},
   "source": [
    "## 9. Identifying Potential Fraud Patterns"
   ]
  },
  {
   "cell_type": "code",
   "execution_count": null,
   "metadata": {},
   "outputs": [],
   "source": [
    "# Example: Look for suspicious patterns\n",
    "def identify_suspicious_patterns(df):\n",
    "    suspicious = {\n",
    "        'high_frequency': df['from_address'].value_counts()[df['from_address'].value_counts() > 100].index,\n",
    "        'high_value': df[df['value'] > df['value'].quantile(0.99)]['from_address'].unique(),\n",
    "        'unusual_gas': df[df['gas_price'] > df['gas_price'].quantile(0.99)]['from_address'].unique()\n",
    "    }\n",
    "    return suspicious\n",
    "\n",
    "suspicious_patterns = identify_suspicious_patterns(transactions_df)\n",
    "for pattern, addresses in suspicious_patterns.items():\n",
    "    print(f\"\\n{pattern}: Found {len(addresses)} suspicious addresses\")"
   ]
  }
 ],
 "metadata": {
  "kernelspec": {
   "display_name": "base",
   "language": "python",
   "name": "python3"
  },
  "language_info": {
   "codemirror_mode": {
    "name": "ipython",
    "version": 3
   },
   "file_extension": ".py",
   "mimetype": "text/x-python",
   "name": "python",
   "nbconvert_exporter": "python",
   "pygments_lexer": "ipython3",
   "version": "3.12.3"
  }
 },
 "nbformat": 4,
 "nbformat_minor": 4
}

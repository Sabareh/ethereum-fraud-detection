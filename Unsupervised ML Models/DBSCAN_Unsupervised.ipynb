{
 "cells": [
  {
   "cell_type": "markdown",
   "metadata": {},
   "source": [
    "# DBSCAN Clustering\n",
    "This notebook demonstrates unsupervised learning using the DBSCAN algorithm."
   ]
  },
  {
   "cell_type": "code",
   "execution_count": null,
   "metadata": {},
   "outputs": [],
   "source": [
    "from sklearn.cluster import DBSCAN\n",
    "import numpy as np\n",
    "\n",
    "# Sample data\n",
    "X = np.array([[1,2],[2,2],[2,3],[8,7],[8,8],[25,80]])\n",
    "\n",
    "# Define and fit the model\n",
    "dbscan = DBSCAN(eps=3, min_samples=2).fit(X)\n",
    "print(dbscan.labels_)"
   ]
  }
 ],
 "metadata": {
  "language_info": {
   "name": "python"
  }
 },
 "nbformat": 4,
 "nbformat_minor": 2
}

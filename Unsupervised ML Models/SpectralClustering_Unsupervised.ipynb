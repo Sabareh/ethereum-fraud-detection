{
 "cells": [
  {
   "cell_type": "markdown",
   "metadata": {},
   "source": [
    "# Spectral Clustering\n",
    "This notebook demonstrates unsupervised learning using Spectral Clustering."
   ]
  },
  {
   "cell_type": "code",
   "execution_count": null,
   "metadata": {},
   "outputs": [],
   "source": [
    "from sklearn.cluster import SpectralClustering\n",
    "import numpy as np\n",
    "\n",
    "# Sample data\n",
    "X = np.array([[1,2],[1,4],[1,0],[10,2],[10,4],[10,0]])\n",
    "\n",
    "# Define and fit the model\n",
    "spectral = SpectralClustering(n_clusters=2, assign_labels='discretize', random_state=0).fit(X)\n",
    "print(spectral.labels_)"
   ]
  }
 ],
 "metadata": {
  "language_info": {
   "name": "python"
  }
 },
 "nbformat": 4,
 "nbformat_minor": 2
}
